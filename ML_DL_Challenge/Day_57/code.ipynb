{
 "cells": [
  {
   "cell_type": "code",
   "execution_count": 1,
   "id": "57915c9b",
   "metadata": {},
   "outputs": [],
   "source": [
    "def build_model():\n",
    "    model = models.Sequential()\n",
    "    \n",
    "    # 1st block\n",
    "    model.add(layers.Conv2D(32, (3,3), padding='same', \n",
    "        input_shape=x_train.shape[1:], activation='relu'))\n",
    "    model.add(layers.BatchNormalization())\n",
    "    model.add(layers.Conv2D(32, (3,3), padding='same', activation='relu'))\n",
    "    model.add(layers.BatchNormalization())\n",
    "    model.add(layers.MaxPooling2D(pool_size=(2,2)))\n",
    "    model.add(layers.Dropout(0.2))\n",
    "    # 2nd block\n",
    "    model.add(layers.Conv2D(64, (3,3), padding='same', activation='relu'))\n",
    "    model.add(layers.BatchNormalization())\n",
    "    model.add(layers.Conv2D(64, (3,3), padding='same', activation='relu'))\n",
    "    model.add(layers.BatchNormalization())\n",
    "    model.add(layers.MaxPooling2D(pool_size=(2,2)))\n",
    "    model.add(layers.Dropout(0.3))\n",
    "    # 3d block \n",
    "    model.add(layers.Conv2D(128, (3,3), padding='same', activation='relu'))\n",
    "    model.add(layers.BatchNormalization())\n",
    "    model.add(layers.Conv2D(128, (3,3), padding='same', activation='relu'))\n",
    "    model.add(layers.BatchNormalization())\n",
    "    model.add(layers.MaxPooling2D(pool_size=(2,2)))\n",
    "    model.add(layers.Dropout(0.4))\n",
    "    # dense  \n",
    "    model.add(layers.Flatten())\n",
    "    model.add(layers.Dense(NUM_CLASSES, activation='softmax'))\n",
    "    return model\n",
    "    model.summary()"
   ]
  },
  {
   "cell_type": "code",
   "execution_count": null,
   "id": "3d4d19fd",
   "metadata": {},
   "outputs": [
    {
     "name": "stdout",
     "output_type": "stream",
     "text": [
      "Epoch 1/50\n",
      "782/782 [==============================] - 100s 127ms/step - loss: 1.7678 - accuracy: 0.4753 - val_loss: 1.1069 - val_accuracy: 0.6346\n",
      "Epoch 2/50\n",
      "782/782 [==============================] - 100s 128ms/step - loss: 1.0931 - accuracy: 0.6537 - val_loss: 1.0163 - val_accuracy: 0.6503\n",
      "Epoch 3/50\n",
      "782/782 [==============================] - 97s 123ms/step - loss: 0.8724 - accuracy: 0.7144 - val_loss: 0.7942 - val_accuracy: 0.7284\n",
      "Epoch 4/50\n",
      "782/782 [==============================] - 97s 125ms/step - loss: 0.7494 - accuracy: 0.7479 - val_loss: 0.6996 - val_accuracy: 0.7644\n",
      "Epoch 5/50\n",
      "782/782 [==============================] - 108s 138ms/step - loss: 0.6602 - accuracy: 0.7757 - val_loss: 0.7013 - val_accuracy: 0.7567\n",
      "Epoch 6/50\n",
      " 33/782 [>.............................] - ETA: 1:34 - loss: 0.5551 - accuracy: 0.8035"
     ]
    }
   ],
   "source": [
    "import tensorflow as tf\n",
    "from tensorflow.keras import datasets, layers, models, regularizers, optimizers\n",
    "from tensorflow.keras.preprocessing.image import ImageDataGenerator\n",
    "import numpy as np\n",
    " \n",
    "EPOCHS=50\n",
    "NUM_CLASSES = 10\n",
    "def load_data():\n",
    "    (x_train, y_train), (x_test, y_test) = datasets.cifar10.load_data()\n",
    "    x_train = x_train.astype('float32')\n",
    "    x_test = x_test.astype('float32')\n",
    " \n",
    "    # normalize \n",
    "    mean = np.mean(x_train,axis=(0,1,2,3))\n",
    "    std = np.std(x_train,axis=(0,1,2,3))\n",
    "    x_train = (x_train-mean)/(std+1e-7)\n",
    "    x_test = (x_test-mean)/(std+1e-7)\n",
    " \n",
    "    y_train =  tf.keras.utils.to_categorical(y_train,NUM_CLASSES)\n",
    "    y_test =  tf.keras.utils.to_categorical(y_test,NUM_CLASSES)\n",
    "    return x_train, y_train, x_test, y_test\n",
    "\n",
    "(x_train, y_train, x_test, y_test) = load_data()\n",
    "model = build_model()\n",
    "model.compile(loss='categorical_crossentropy', \n",
    "              optimizer='RMSprop', \n",
    "              metrics=['accuracy'])\n",
    "# train\n",
    "batch_size = 64\n",
    "model.fit(x_train, y_train, batch_size=batch_size,\n",
    "          epochs=EPOCHS, validation_data=(x_test,y_test)) \n",
    "score = model.evaluate(x_test, y_test, batch_size=BATCH_SIZE)\n",
    "print(\"\\nTest score:\", score[0])\n",
    "print('Test accuracy:', score[1])"
   ]
  }
 ],
 "metadata": {
  "kernelspec": {
   "display_name": "Python 3",
   "language": "python",
   "name": "python3"
  },
  "language_info": {
   "codemirror_mode": {
    "name": "ipython",
    "version": 3
   },
   "file_extension": ".py",
   "mimetype": "text/x-python",
   "name": "python",
   "nbconvert_exporter": "python",
   "pygments_lexer": "ipython3",
   "version": "3.8.8"
  }
 },
 "nbformat": 4,
 "nbformat_minor": 5
}
