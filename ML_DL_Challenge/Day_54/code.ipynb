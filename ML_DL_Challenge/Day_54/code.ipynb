{
  "nbformat": 4,
  "nbformat_minor": 0,
  "metadata": {
    "colab": {
      "name": "Untitled48.ipynb",
      "provenance": []
    },
    "kernelspec": {
      "name": "python3",
      "display_name": "Python 3"
    },
    "language_info": {
      "name": "python"
    }
  },
  "cells": [
    {
      "cell_type": "code",
      "metadata": {
        "id": "zC81aRLReIcf"
      },
      "source": [
        "import tensorflow as tf\n",
        "\n",
        "def pool2d(X, pool_size, mode='max'):\n",
        "    p_h, p_w = pool_size\n",
        "    Y = tf.Variable(tf.zeros((X.shape[0] - p_h + 1, X.shape[1] - p_w + 1)))\n",
        "    for i in range(Y.shape[0]):\n",
        "        for j in range(Y.shape[1]):\n",
        "            if mode == 'max':\n",
        "                Y[i, j].assign(tf.reduce_max(X[i:i + p_h, j:j + p_w]))\n",
        "            elif mode == 'avg':\n",
        "                Y[i, j].assign(tf.reduce_mean(X[i:i + p_h, j:j + p_w]))\n",
        "    return Y"
      ],
      "execution_count": 2,
      "outputs": []
    },
    {
      "cell_type": "code",
      "metadata": {
        "colab": {
          "base_uri": "https://localhost:8080/"
        },
        "id": "pbvB5GIfeJND",
        "outputId": "f0516b0c-67be-4c5f-d36b-8f9f69ea332d"
      },
      "source": [
        "X = tf.constant([[0.0, 1.0, 2.0], [3.0, 4.0, 5.0], [6.0, 7.0, 8.0]])\n",
        "print(pool2d(X, (2, 2)))"
      ],
      "execution_count": 3,
      "outputs": [
        {
          "output_type": "stream",
          "name": "stdout",
          "text": [
            "<tf.Variable 'Variable:0' shape=(2, 2) dtype=float32, numpy=\n",
            "array([[4., 5.],\n",
            "       [7., 8.]], dtype=float32)>\n"
          ]
        }
      ]
    },
    {
      "cell_type": "code",
      "metadata": {
        "colab": {
          "base_uri": "https://localhost:8080/"
        },
        "id": "2tuMpSp7g5YE",
        "outputId": "96b26081-6ae0-442d-b1b2-05a86282448d"
      },
      "source": [
        "print(pool2d(X, (2, 2), 'avg'))"
      ],
      "execution_count": 4,
      "outputs": [
        {
          "output_type": "stream",
          "name": "stdout",
          "text": [
            "<tf.Variable 'Variable:0' shape=(2, 2) dtype=float32, numpy=\n",
            "array([[2., 3.],\n",
            "       [5., 6.]], dtype=float32)>\n"
          ]
        }
      ]
    },
    {
      "cell_type": "code",
      "metadata": {
        "colab": {
          "base_uri": "https://localhost:8080/"
        },
        "id": "u5Ku7unYg-1H",
        "outputId": "946d7af5-5c18-46d3-b198-23f0c620ef78"
      },
      "source": [
        "X = tf.reshape(tf.range(16, dtype=tf.float32), (1, 4, 4, 1))\n",
        "print(X)"
      ],
      "execution_count": 6,
      "outputs": [
        {
          "output_type": "stream",
          "name": "stdout",
          "text": [
            "tf.Tensor(\n",
            "[[[[ 0.]\n",
            "   [ 1.]\n",
            "   [ 2.]\n",
            "   [ 3.]]\n",
            "\n",
            "  [[ 4.]\n",
            "   [ 5.]\n",
            "   [ 6.]\n",
            "   [ 7.]]\n",
            "\n",
            "  [[ 8.]\n",
            "   [ 9.]\n",
            "   [10.]\n",
            "   [11.]]\n",
            "\n",
            "  [[12.]\n",
            "   [13.]\n",
            "   [14.]\n",
            "   [15.]]]], shape=(1, 4, 4, 1), dtype=float32)\n"
          ]
        }
      ]
    },
    {
      "cell_type": "code",
      "metadata": {
        "colab": {
          "base_uri": "https://localhost:8080/"
        },
        "id": "LBkwU7VYhEDA",
        "outputId": "c11033cc-6758-462f-85e4-d494f3f327d9"
      },
      "source": [
        "pool2d = tf.keras.layers.MaxPool2D(pool_size=[3, 3])\n",
        "print(pool2d(X))"
      ],
      "execution_count": 7,
      "outputs": [
        {
          "output_type": "stream",
          "name": "stdout",
          "text": [
            "tf.Tensor([[[[10.]]]], shape=(1, 1, 1, 1), dtype=float32)\n"
          ]
        }
      ]
    },
    {
      "cell_type": "code",
      "metadata": {
        "colab": {
          "base_uri": "https://localhost:8080/"
        },
        "id": "RoHkRpb5hG5z",
        "outputId": "aae65fac-5d12-4860-d957-e66be2877c89"
      },
      "source": [
        "paddings = tf.constant([[0, 0], [1, 0], [1, 0], [0, 0]])\n",
        "X_padded = tf.pad(X, paddings, \"CONSTANT\")\n",
        "pool2d = tf.keras.layers.MaxPool2D(pool_size=[3, 3], padding='valid',\n",
        "                                   strides=2)\n",
        "print(pool2d(X_padded))"
      ],
      "execution_count": 8,
      "outputs": [
        {
          "output_type": "stream",
          "name": "stdout",
          "text": [
            "tf.Tensor(\n",
            "[[[[ 5.]\n",
            "   [ 7.]]\n",
            "\n",
            "  [[13.]\n",
            "   [15.]]]], shape=(1, 2, 2, 1), dtype=float32)\n"
          ]
        }
      ]
    },
    {
      "cell_type": "code",
      "metadata": {
        "colab": {
          "base_uri": "https://localhost:8080/"
        },
        "id": "Tpglyr-8hMGz",
        "outputId": "68d1db21-718c-4c16-e4ec-31fd279259ae"
      },
      "source": [
        "paddings = tf.constant([[0, 0], [0, 0], [1, 1], [0, 0]])\n",
        "X_padded = tf.pad(X, paddings, \"CONSTANT\")\n",
        "\n",
        "pool2d = tf.keras.layers.MaxPool2D(pool_size=[2, 3], padding='valid',\n",
        "                                   strides=(2, 3))\n",
        "print(pool2d(X_padded))"
      ],
      "execution_count": 9,
      "outputs": [
        {
          "output_type": "stream",
          "name": "stdout",
          "text": [
            "tf.Tensor(\n",
            "[[[[ 5.]\n",
            "   [ 7.]]\n",
            "\n",
            "  [[13.]\n",
            "   [15.]]]], shape=(1, 2, 2, 1), dtype=float32)\n"
          ]
        }
      ]
    },
    {
      "cell_type": "code",
      "metadata": {
        "id": "qkc5SBq1hRu3"
      },
      "source": [
        "X = tf.concat([X, X + 1],3)"
      ],
      "execution_count": 12,
      "outputs": []
    },
    {
      "cell_type": "code",
      "metadata": {
        "colab": {
          "base_uri": "https://localhost:8080/"
        },
        "id": "63NI69xZhYYZ",
        "outputId": "6c0060e6-ec8c-49e5-b0f3-2129383c462f"
      },
      "source": [
        "paddings = tf.constant([[0, 0], [1, 0], [1, 0], [0, 0]])\n",
        "X_padded = tf.pad(X, paddings, \"CONSTANT\")\n",
        "pool2d = tf.keras.layers.MaxPool2D(pool_size=[3, 3], padding='valid',\n",
        "                                   strides=2)\n",
        "print(pool2d(X_padded))"
      ],
      "execution_count": 13,
      "outputs": [
        {
          "output_type": "stream",
          "name": "stdout",
          "text": [
            "tf.Tensor(\n",
            "[[[[ 5.  6.]\n",
            "   [ 7.  8.]]\n",
            "\n",
            "  [[13. 14.]\n",
            "   [15. 16.]]]], shape=(1, 2, 2, 2), dtype=float32)\n"
          ]
        }
      ]
    }
  ]
}