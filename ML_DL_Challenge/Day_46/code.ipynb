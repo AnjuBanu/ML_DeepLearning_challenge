{
  "nbformat": 4,
  "nbformat_minor": 0,
  "metadata": {
    "colab": {
      "name": "Untitled32.ipynb",
      "provenance": []
    },
    "kernelspec": {
      "name": "python3",
      "display_name": "Python 3"
    },
    "language_info": {
      "name": "python"
    }
  },
  "cells": [
    {
      "cell_type": "code",
      "metadata": {
        "colab": {
          "base_uri": "https://localhost:8080/"
        },
        "id": "UPv9VRRV-Ad9",
        "outputId": "419832a0-aec1-442b-e36a-8ae5f7c3a955"
      },
      "source": [
        "# Probability losses\n",
        "\n",
        "# Binary cross entropy (BCE) loss\n",
        "import tensorflow as tf\n",
        "import numpy as np\n",
        "\n",
        "y_actual = [[0.0,1.0],[0.0,0.0]]\n",
        "y_predict = [[0.5,0.4],[0.4,0.5]]\n",
        "bce_loss = tf.keras.losses.BinaryCrossentropy()\n",
        "bce_loss(y_actual,y_predict).numpy()"
      ],
      "execution_count": 12,
      "outputs": [
        {
          "output_type": "execute_result",
          "data": {
            "text/plain": [
              "0.70335245"
            ]
          },
          "metadata": {
            "tags": []
          },
          "execution_count": 12
        }
      ]
    },
    {
      "cell_type": "code",
      "metadata": {
        "colab": {
          "base_uri": "https://localhost:8080/"
        },
        "id": "YtCEvMba_XC_",
        "outputId": "078bd86f-80ce-4837-8315-4fd411f141d0"
      },
      "source": [
        "# Categorical Crossentropy loss\n",
        "\n",
        "y_actual = [[0.0,1.0,0.0],[0.0,0.0,1.0]]\n",
        "y_predict = [[0.5,0.4,0.0],[0.4,0.5,1.0]]\n",
        "cce_loss = tf.keras.losses.CategoricalCrossentropy()\n",
        "cce_loss(y_actual,y_predict).numpy()"
      ],
      "execution_count": 11,
      "outputs": [
        {
          "output_type": "execute_result",
          "data": {
            "text/plain": [
              "0.72639203"
            ]
          },
          "metadata": {
            "tags": []
          },
          "execution_count": 11
        }
      ]
    },
    {
      "cell_type": "code",
      "metadata": {
        "colab": {
          "base_uri": "https://localhost:8080/"
        },
        "id": "xwYV1KrhM6w5",
        "outputId": "8c544593-823e-4f7b-fca0-00fc598ca334"
      },
      "source": [
        "# Sparse Crossentropy loss\n",
        "\n",
        "y_actual = [1,2]\n",
        "y_predict = [[0.5,0.4,0.0],[0.4,0.5,1.0]]\n",
        "scce_loss = tf.keras.losses.sparse_categorical_crossentropy(y_actual,y_predict)\n",
        "scce_loss.shape == (2,)\n",
        "scce_loss.numpy()"
      ],
      "execution_count": 20,
      "outputs": [
        {
          "output_type": "execute_result",
          "data": {
            "text/plain": [
              "array([0.8109303, 0.6418539], dtype=float32)"
            ]
          },
          "metadata": {
            "tags": []
          },
          "execution_count": 20
        }
      ]
    },
    {
      "cell_type": "code",
      "metadata": {
        "colab": {
          "base_uri": "https://localhost:8080/"
        },
        "id": "26nI2ekL_uCv",
        "outputId": "1dc8f0f4-de42-4656-f648-44ee65fb9599"
      },
      "source": [
        "# Poisson loss\n",
        "\n",
        "y_actual = [[0., 1.], [0., 0.]]\n",
        "y_predict = [[1., 1.], [0., 0.]]\n",
        "p = tf.keras.losses.Poisson()\n",
        "p(y_actual, y_predict).numpy()"
      ],
      "execution_count": 21,
      "outputs": [
        {
          "output_type": "execute_result",
          "data": {
            "text/plain": [
              "0.49999997"
            ]
          },
          "metadata": {
            "tags": []
          },
          "execution_count": 21
        }
      ]
    },
    {
      "cell_type": "code",
      "metadata": {
        "colab": {
          "base_uri": "https://localhost:8080/"
        },
        "id": "oI4E-aqhbawL",
        "outputId": "7e9003ad-a421-410d-cbaa-bcd9325edb3a"
      },
      "source": [
        "# Kullback-Leibler Divergence loss\n",
        "y_actual = [[0., 1.], [0., 0.]]\n",
        "y_predict = [[0.6, 0.9], [0.3, 0.1]]\n",
        "p = tf.keras.losses.KLDivergence()\n",
        "p(y_actual, y_predict).numpy()"
      ],
      "execution_count": 24,
      "outputs": [
        {
          "output_type": "execute_result",
          "data": {
            "text/plain": [
              "0.052678064"
            ]
          },
          "metadata": {
            "tags": []
          },
          "execution_count": 24
        }
      ]
    },
    {
      "cell_type": "code",
      "metadata": {
        "colab": {
          "base_uri": "https://localhost:8080/"
        },
        "id": "RmrGe8-8dS8E",
        "outputId": "622578d7-17df-48d9-9e37-c23df60b2f45"
      },
      "source": [
        "# Regression losses\n",
        "\n",
        "# Mean Squared Error(MSE) \n",
        "y_actual = [[0., 1.], [0., 0.]]\n",
        "y_predict = [[1., 1.], [1., 0.]]\n",
        "mse = tf.keras.losses.MeanSquaredError()\n",
        "mse(y_actual, y_predict).numpy()"
      ],
      "execution_count": 27,
      "outputs": [
        {
          "output_type": "execute_result",
          "data": {
            "text/plain": [
              "0.5"
            ]
          },
          "metadata": {
            "tags": []
          },
          "execution_count": 27
        }
      ]
    },
    {
      "cell_type": "code",
      "metadata": {
        "colab": {
          "base_uri": "https://localhost:8080/"
        },
        "id": "z2Km9TOkdnjm",
        "outputId": "5949f84a-ea26-41f1-a3c8-99d292c25539"
      },
      "source": [
        "# MeanAbsoluteError\n",
        "y_actual = [[0., 1.], [0., 0.]]\n",
        "y_predict = [[1., 1.], [1., 0.]]\n",
        "mae = tf.keras.losses.MeanAbsoluteError()\n",
        "mae(y_actual,y_predict).numpy()"
      ],
      "execution_count": 29,
      "outputs": [
        {
          "output_type": "execute_result",
          "data": {
            "text/plain": [
              "0.5"
            ]
          },
          "metadata": {
            "tags": []
          },
          "execution_count": 29
        }
      ]
    },
    {
      "cell_type": "code",
      "metadata": {
        "colab": {
          "base_uri": "https://localhost:8080/"
        },
        "id": "U7RhnM0zdzbP",
        "outputId": "a224d37e-65b4-4cfd-e54a-ce3b20769625"
      },
      "source": [
        "# Mean Absolute Percentage Error(MAPE)\n",
        "y_actual = [[10, 11], [1, 3]]\n",
        "y_predict = [[9, 10.5], [0.5, 2]]\n",
        "mape = tf.keras.losses.MeanAbsolutePercentageError()\n",
        "mape(y_actual,y_predict).numpy()"
      ],
      "execution_count": 31,
      "outputs": [
        {
          "output_type": "execute_result",
          "data": {
            "text/plain": [
              "24.469698"
            ]
          },
          "metadata": {
            "tags": []
          },
          "execution_count": 31
        }
      ]
    },
    {
      "cell_type": "code",
      "metadata": {
        "colab": {
          "base_uri": "https://localhost:8080/"
        },
        "id": "Y9rIByXAeCrO",
        "outputId": "85011ba1-5d0b-40c9-fb14-670fed90125a"
      },
      "source": [
        "# Mean Squared Logarithmic Error(MSLE)\n",
        "y_actual = [[10, 11], [1, 3]]\n",
        "y_predict = [[9, 10.5], [0.5, 2]]\n",
        "msle = tf.keras.losses.MeanSquaredLogarithmicError()\n",
        "msle(y_actual,y_predict).numpy()"
      ],
      "execution_count": 32,
      "outputs": [
        {
          "output_type": "execute_result",
          "data": {
            "text/plain": [
              "0.044104327"
            ]
          },
          "metadata": {
            "tags": []
          },
          "execution_count": 32
        }
      ]
    },
    {
      "cell_type": "code",
      "metadata": {
        "colab": {
          "base_uri": "https://localhost:8080/"
        },
        "id": "2L9SEdlEeTTm",
        "outputId": "a9915428-0068-42ed-8287-d17f229f723e"
      },
      "source": [
        "# CosineSimilarity loss\n",
        "y_actual = [[0., 1.], [1., 1.]]\n",
        "y_predict = [[1., 0.], [1., 1.]]\n",
        "csl = tf.keras.losses.CosineSimilarity(axis=1)\n",
        "csl(y_actual,y_predict).numpy()"
      ],
      "execution_count": 34,
      "outputs": [
        {
          "output_type": "execute_result",
          "data": {
            "text/plain": [
              "-0.49999997"
            ]
          },
          "metadata": {
            "tags": []
          },
          "execution_count": 34
        }
      ]
    },
    {
      "cell_type": "code",
      "metadata": {
        "colab": {
          "base_uri": "https://localhost:8080/"
        },
        "id": "Ig5TuhMcetHq",
        "outputId": "e1bb3447-f347-41f2-f8d0-b502c03b2a49"
      },
      "source": [
        "# Huber loss\n",
        "y_actual = [[0, 1], [0, 0]]\n",
        "y_predict = [[0.5, 0.4], [0.4, 0.5]]\n",
        "hub_loss = tf.keras.losses.Huber()\n",
        "hub_loss(y_actual, y_predict).numpy()"
      ],
      "execution_count": 37,
      "outputs": [
        {
          "output_type": "execute_result",
          "data": {
            "text/plain": [
              "0.1275"
            ]
          },
          "metadata": {
            "tags": []
          },
          "execution_count": 37
        }
      ]
    },
    {
      "cell_type": "code",
      "metadata": {
        "colab": {
          "base_uri": "https://localhost:8080/"
        },
        "id": "wOUiA46me-HR",
        "outputId": "5b606942-e420-4858-d0bc-38daa0e22ef2"
      },
      "source": [
        "# Hinge loss\n",
        "y_actual = [[0., 1.], [0., 0.]]\n",
        "y_predict = [[0.5, 0.4], [0.4, 0.5]]\n",
        "h_loss = tf.keras.losses.Hinge()\n",
        "h_loss(y_actual, y_predict).numpy()"
      ],
      "execution_count": 38,
      "outputs": [
        {
          "output_type": "execute_result",
          "data": {
            "text/plain": [
              "1.25"
            ]
          },
          "metadata": {
            "tags": []
          },
          "execution_count": 38
        }
      ]
    },
    {
      "cell_type": "code",
      "metadata": {
        "colab": {
          "base_uri": "https://localhost:8080/"
        },
        "id": "09zPAJOWfIlV",
        "outputId": "b288bd09-eb16-4812-ffdc-e10bab97b815"
      },
      "source": [
        "# Squared Hinge loss\n",
        "y_actual = [[0., 1.], [0., 0.]]\n",
        "y_predict = [[0.5, 0.4], [0.4, 0.5]]\n",
        "sh_loss = tf.keras.losses.SquaredHinge()\n",
        "sh_loss(y_actual, y_predict).numpy()"
      ],
      "execution_count": 39,
      "outputs": [
        {
          "output_type": "execute_result",
          "data": {
            "text/plain": [
              "1.705"
            ]
          },
          "metadata": {
            "tags": []
          },
          "execution_count": 39
        }
      ]
    },
    {
      "cell_type": "code",
      "metadata": {
        "colab": {
          "base_uri": "https://localhost:8080/"
        },
        "id": "Wgvy5cSEfTJ9",
        "outputId": "f260e917-737a-4de7-e66a-3d0c492be34b"
      },
      "source": [
        "# CategoricalHinge loss\n",
        "y_actual = [[0., 1.], [0., 0.]]\n",
        "y_predict = [[0.5, 0.4], [0.4, 0.5]]\n",
        "cath_loss = tf.keras.losses.CategoricalHinge()\n",
        "cath_loss(y_actual, y_predict).numpy()"
      ],
      "execution_count": 40,
      "outputs": [
        {
          "output_type": "execute_result",
          "data": {
            "text/plain": [
              "1.3"
            ]
          },
          "metadata": {
            "tags": []
          },
          "execution_count": 40
        }
      ]
    }
  ]
}