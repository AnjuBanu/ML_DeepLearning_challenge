{
 "cells": [
  {
   "cell_type": "code",
   "execution_count": 13,
   "id": "5d9afbe5",
   "metadata": {},
   "outputs": [],
   "source": [
    "# Importing necessary dataset\n",
    "from sklearn.datasets import fetch_openml\n",
    "mnist = fetch_openml('mnist_784', version=1, as_frame=False)\n",
    "mnist.keys()\n",
    "X, y = mnist['data'], mnist['target']\n",
    "y = y.astype(np.uint8)\n",
    "X_train,y_train,X_test,y_test = X[:60000],y[:60000],X[60000:],y[60000:]\n",
    "some_digit = X[0]\n"
   ]
  },
  {
   "cell_type": "code",
   "execution_count": 42,
   "id": "c3d65b3e",
   "metadata": {},
   "outputs": [],
   "source": [
    "import numpy as np \n",
    "import pandas as pd\n",
    "import matplotlib.pyplot as plt\n",
    "import matplotlib as mpl"
   ]
  },
  {
   "cell_type": "code",
   "execution_count": 22,
   "id": "f9a9bece",
   "metadata": {},
   "outputs": [
    {
     "data": {
      "text/plain": [
       "array([[False,  True],\n",
       "       [False, False],\n",
       "       [False, False],\n",
       "       ...,\n",
       "       [False,  True],\n",
       "       [False, False],\n",
       "       [ True, False]])"
      ]
     },
     "execution_count": 22,
     "metadata": {},
     "output_type": "execute_result"
    }
   ],
   "source": [
    "# Example of Multiclass classifier\n",
    "from sklearn.neighbors import KNeighborsClassifier\n",
    "y_train_large = (y_train >= 7)\n",
    "y_train_odd = (y_train % 2 == 1)\n",
    "y_multilable = np.c_[y_train_large,y_train_odd]\n",
    "print(y_multilable)"
   ]
  },
  {
   "cell_type": "code",
   "execution_count": 24,
   "id": "fb5eb8c8",
   "metadata": {},
   "outputs": [
    {
     "data": {
      "text/plain": [
       "KNeighborsClassifier()"
      ]
     },
     "execution_count": 24,
     "metadata": {},
     "output_type": "execute_result"
    }
   ],
   "source": [
    "knn_clf = KNeighborsClassifier()\n",
    "knn_clf.fit(X_train, y_multilable)"
   ]
  },
  {
   "cell_type": "code",
   "execution_count": 25,
   "id": "5d256069",
   "metadata": {},
   "outputs": [
    {
     "data": {
      "text/plain": [
       "array([[False,  True]])"
      ]
     },
     "execution_count": 25,
     "metadata": {},
     "output_type": "execute_result"
    }
   ],
   "source": [
    "knn_clf.predict([some_digit])"
   ]
  },
  {
   "cell_type": "code",
   "execution_count": 28,
   "id": "a6f0b5fe",
   "metadata": {},
   "outputs": [],
   "source": [
    "from sklearn.model_selection import cross_val_predict\n",
    "y_train_knn_pred = cross_val_predict(knn_clf, X_train, y_multilable, cv=3)"
   ]
  },
  {
   "cell_type": "code",
   "execution_count": 29,
   "id": "76ddd87f",
   "metadata": {},
   "outputs": [
    {
     "name": "stdout",
     "output_type": "stream",
     "text": [
      "0.976410265560605\n"
     ]
    }
   ],
   "source": [
    "from sklearn.metrics import f1_score\n",
    "f1score_macro = f1_score (y_multilable, y_train_knn_pred, average=\"macro\")\n",
    "print(f1score_macro)"
   ]
  },
  {
   "cell_type": "code",
   "execution_count": 30,
   "id": "5b4acdbb",
   "metadata": {},
   "outputs": [
    {
     "name": "stdout",
     "output_type": "stream",
     "text": [
      "0.9778357403921755\n"
     ]
    }
   ],
   "source": [
    "f1score_wgt = f1_score (y_multilable, y_train_knn_pred, average=\"weighted\")\n",
    "print(f1score_wgt)"
   ]
  },
  {
   "cell_type": "code",
   "execution_count": 35,
   "id": "5a3340fb",
   "metadata": {},
   "outputs": [],
   "source": [
    "# Multioutput classification\n",
    "noise1 = np.random.randint(0,100,(X_train.shape))\n",
    "X_train_mod = X_train + noise1\n",
    "noise2 = np.random.randint(0,100,(X_test.shape))\n",
    "X_test_mod = X_test + noise2\n",
    "y_train_mod = X_train\n",
    "y_test_mode = X_test"
   ]
  },
  {
   "cell_type": "code",
   "execution_count": 58,
   "id": "acf7d000",
   "metadata": {},
   "outputs": [],
   "source": [
    "\n",
    "def plot_digit(data,title,name):\n",
    "    image = data.reshape(28, 28)\n",
    "    plt.imshow(image, cmap = mpl.cm.binary,\n",
    "               interpolation=\"nearest\")\n",
    "    plt.axis(\"off\")\n",
    "    plt.title(title)\n",
    "    plt.savefig(name)\n",
    "    \n",
    "knn_clf.fit(X_train_mod,y_train_mod)\n",
    "predic_digit = knn_clf.predict([X_train_mod[1]])"
   ]
  },
  {
   "cell_type": "code",
   "execution_count": 59,
   "id": "1fc351c9",
   "metadata": {},
   "outputs": [
    {
     "data": {
      "image/png": "[encoded data removed]",
      "text/plain": [
       "<Figure size 432x288 with 1 Axes>"
      ]
     },
     "metadata": {
      "needs_background": "light"
     },
     "output_type": "display_data"
    },
    {
     "data": {
      "image/png": "[encoded data removed]",
      "text/plain": [
       "<Figure size 432x288 with 1 Axes>"
      ]
     },
     "metadata": {
      "needs_background": "light"
     },
     "output_type": "display_data"
    }
   ],
   "source": [
    "plot_digit(X_train_mod[1],\"With noise\", \"noise\")\n",
    "plt.figure()\n",
    "plot_digit(predic_digit,\"Without noise\", \"noNoise\")"
   ]
  },
  {
   "cell_type": "code",
   "execution_count": null,
   "id": "47cfca3b",
   "metadata": {},
   "outputs": [],
   "source": []
  }
 ],
 "metadata": {
  "kernelspec": {
   "display_name": "Python 3",
   "language": "python",
   "name": "python3"
  },
  "language_info": {
   "codemirror_mode": {
    "name": "ipython",
    "version": 3
   },
   "file_extension": ".py",
   "mimetype": "text/x-python",
   "name": "python",
   "nbconvert_exporter": "python",
   "pygments_lexer": "ipython3",
   "version": "3.8.8"
  }
 },
 "nbformat": 4,
 "nbformat_minor": 5
}
