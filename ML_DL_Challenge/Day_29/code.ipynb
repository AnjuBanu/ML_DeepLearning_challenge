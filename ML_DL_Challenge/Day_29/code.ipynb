{
  "nbformat": 4,
  "nbformat_minor": 0,
  "metadata": {
    "colab": {
      "name": "Untitled17.ipynb",
      "provenance": []
    },
    "kernelspec": {
      "name": "python3",
      "display_name": "Python 3"
    },
    "language_info": {
      "name": "python"
    }
  },
  "cells": [
    {
      "cell_type": "code",
      "metadata": {
        "id": "VFYTHDzx322E"
      },
      "source": [
        "from sklearn.ensemble import RandomForestClassifier\n",
        "from sklearn.ensemble import BaggingClassifier\n",
        "from sklearn.datasets import make_moons\n",
        "from sklearn.model_selection import train_test_split\n",
        "from sklearn.tree import DecisionTreeClassifier\n",
        "from sklearn.metrics import accuracy_score\n",
        "from sklearn.datasets import load_iris\n",
        "import numpy as np\n",
        "import matplotlib.pyplot as plt\n",
        "from sklearn.datasets import fetch_openml\n",
        "import matplotlib as mpl\n",
        "X, y  = make_moons (n_samples=500, noise=0.30, random_state=42)\n",
        "X_train, X_test, y_train, y_test = train_test_split(X, y, test_size=0.25, random_state=42)"
      ],
      "execution_count": null,
      "outputs": []
    },
    {
      "cell_type": "code",
      "metadata": {
        "id": "zFxEB-4739Cz"
      },
      "source": [
        "# Out of bag evaulation\n",
        "ofb_bag_clf = BaggingClassifier(DecisionTreeClassifier(),\n",
        "                                n_estimators=500,\n",
        "                                bootstrap=True,\n",
        "                                oob_score=True,\n",
        "                                random_state=42)\n",
        "ofb_bag_clf.fit(X_train,y_train)\n",
        "y_predict=ofb_bag_clf.predict(X_test)\n",
        "print(ofb_bag_clf.oob_score_)       # Cross validation accuracy for the remaining data out of bagging                     \n",
        "print(accuracy_score(y_test,y_predict)) # 91.2% accuracy\n",
        "print(ofb_bag_clf.oob_decision_function_) # oob evaluation estimates"
      ],
      "execution_count": null,
      "outputs": []
    },
    {
      "cell_type": "code",
      "metadata": {
        "colab": {
          "base_uri": "https://localhost:8080/"
        },
        "id": "EF9Axx7F7Tnj",
        "outputId": "136af6ff-8f24-401c-efe6-0e43a34cbfaa"
      },
      "source": [
        "# Random Patch method\n",
        "randPatch_bag_clf = BaggingClassifier(DecisionTreeClassifier(),\n",
        "                                n_estimators=500,\n",
        "                                bootstrap=True,\n",
        "                                bootstrap_features=True,\n",
        "                                max_features = 0.6,\n",
        "                                random_state=42)\n",
        "randPatch_bag_clf.fit(X_train,y_train)\n",
        "y_predict=randPatch_bag_clf.predict(X_test)                 \n",
        "print(accuracy_score(y_test,y_predict)) # 83.2% accuracy\n"
      ],
      "execution_count": null,
      "outputs": [
        {
          "output_type": "stream",
          "text": [
            "0.832\n"
          ],
          "name": "stdout"
        }
      ]
    },
    {
      "cell_type": "code",
      "metadata": {
        "colab": {
          "base_uri": "https://localhost:8080/"
        },
        "id": "jfu21nvQ-box",
        "outputId": "4ab2b4fe-7ec5-484d-c924-268529b59708"
      },
      "source": [
        "# Random Subspaces\n",
        "randSub_bag_clf = BaggingClassifier(DecisionTreeClassifier(),\n",
        "                                n_estimators=500,\n",
        "                                bootstrap=True,\n",
        "                                bootstrap_features=False,\n",
        "                                max_features = 0.6,\n",
        "                                random_state=42)\n",
        "randSub_bag_clf.fit(X_train,y_train)\n",
        "y_predict=randSub_bag_clf.predict(X_test)                 \n",
        "print(accuracy_score(y_test,y_predict)) # 84.4% accuracy"
      ],
      "execution_count": null,
      "outputs": [
        {
          "output_type": "stream",
          "text": [
            "0.84\n"
          ],
          "name": "stdout"
        }
      ]
    },
    {
      "cell_type": "code",
      "metadata": {
        "colab": {
          "base_uri": "https://localhost:8080/",
          "height": 569
        },
        "id": "T7df8P1ijv-1",
        "outputId": "253ccc81-0f72-4020-f5a5-7d4c954bb515"
      },
      "source": [
        "from sklearn.datasets import fetch_openml\n",
        "\n",
        "# Feature Importance\n",
        "iris = load_iris()\n",
        "rnd_clf = RandomForestClassifier(n_estimators=500, n_jobs=-1)\n",
        "rnd_clf.fit(iris[\"data\"], iris[\"target\"])\n",
        "for name, score in zip(iris[\"feature_names\"], rnd_clf.feature_importances_):\n",
        "  print(name, score)\n",
        "\n",
        "mnist = fetch_openml('mnist_784', version=1, as_frame=False)\n",
        "mnist.target = mnist.target.astype(np.uint8)\n",
        "mnist.target\n",
        "rnd_clf = RandomForestClassifier(n_estimators=100, random_state=42)\n",
        "rnd_clf.fit(mnist[\"data\"], mnist[\"target\"])\n",
        "\n",
        "num = np.random.choice(20, size=10, replace=False)\n",
        "num_row = 2\n",
        "num_col = 5\n",
        "fig, axes = plt.subplots(num_row, num_col, figsize=(1.5*num_col,2*num_row))\n",
        "j=0\n",
        "for i,j in enumerate(num):\n",
        "  ax = axes[i//num_col, i%num_col]\n",
        "  sample = mnist['data'][j]\n",
        "  image = sample.reshape(28,28)\n",
        "  ax.imshow(image, cmap='gray')\n",
        "  ax.axis(\"off\")\n",
        "\n",
        "plt.suptitle(\"Sample from mnist dataset\",fontsize=16)\n",
        "plt.tight_layout()\n",
        "plt.show()\n",
        "\n",
        "def plot_digit(data):\n",
        "    image = data.reshape(28, 28)\n",
        "    plt.imshow(image, cmap = mpl.cm.hot,\n",
        "               interpolation=\"nearest\")\n",
        "    plt.axis(\"off\")\n",
        "    plt.title(\"\\nPixel Importance according to random forest\\n\", fontsize=16)\n",
        "\n",
        "plot_digit(rnd_clf.feature_importances_)\n",
        "cbar = plt.colorbar(ticks=[rnd_clf.feature_importances_.min(), rnd_clf.feature_importances_.max()])\n",
        "cbar.ax.set_yticklabels(['Not important', 'Very important'])\n",
        "plt.show()\n"
      ],
      "execution_count": null,
      "outputs": [
        {
          "output_type": "display_data",
          "data": {
            "image/png": "[encoded data removed]",
            "text/plain": [
              "<Figure size 540x288 with 10 Axes>"
            ]
          },
          "metadata": {
            "tags": [],
            "needs_background": "light"
          }
        },
        {
          "output_type": "display_data",
          "data": {
            "image/png": "[encoded data removed]",
            "text/plain": [
              "<Figure size 432x288 with 2 Axes>"
            ]
          },
          "metadata": {
            "tags": [],
            "needs_background": "light"
          }
        }
      ]
    },
    {
      "cell_type": "code",
      "metadata": {
        "id": "K9WKKA7Ujy0b"
      },
      "source": [
        "?plt.title"
      ],
      "execution_count": null,
      "outputs": []
    }
  ]
}