{
 "cells": [
  {
   "cell_type": "code",
   "execution_count": 8,
   "id": "4d8ef62b",
   "metadata": {},
   "outputs": [],
   "source": [
    "import numpy as np \n",
    "import pandas as pd\n",
    "import matplotlib.pyplot as plt"
   ]
  },
  {
   "cell_type": "code",
   "execution_count": 66,
   "id": "0977d323",
   "metadata": {},
   "outputs": [
    {
     "data": {
      "image/png": "[encoded data removed]",
      "text/plain": [
       "<Figure size 432x288 with 1 Axes>"
      ]
     },
     "metadata": {
      "needs_background": "light"
     },
     "output_type": "display_data"
    }
   ],
   "source": [
    "X = 2 * np.random.rand(100, 1)\n",
    "y = 4 + 3 * X + np.random.randn(100, 1)\n",
    "plt.plot(X,y,\"b.\")\n",
    "plt.xlabel (\"$X_1$\", fontsize=15)\n",
    "plt.ylabel (\"$Y$\", rotation =0, fontsize=15)\n",
    "plt.axis([0,2,0,15])\n",
    "plt.title(\"X v/s y\")\n",
    "plt.savefig(\"linearPlot\")"
   ]
  },
  {
   "cell_type": "code",
   "execution_count": 70,
   "id": "56d1a17d",
   "metadata": {},
   "outputs": [
    {
     "name": "stdout",
     "output_type": "stream",
     "text": [
      "[[3.86671814]\n",
      " [3.03691204]]\n"
     ]
    }
   ],
   "source": [
    "X_b = np.c_[np.ones((100,1)),X]\n",
    "theta_best = np.linalg.inv(X_b.T.dot(X_b)).dot(X_b.T).dot(y)\n",
    "print(theta_best)"
   ]
  },
  {
   "cell_type": "code",
   "execution_count": 71,
   "id": "91e21544",
   "metadata": {},
   "outputs": [
    {
     "name": "stdout",
     "output_type": "stream",
     "text": [
      "[[3.86671814]\n",
      " [9.94054222]]\n"
     ]
    }
   ],
   "source": [
    "# Now we make prediction using theta\n",
    "X_new = np.array([[0],[2]])\n",
    "X_new_b = np.c_[np.ones((len(X_new),1)),X_new]\n",
    "y_predict = X_new_b.dot(theta_best)\n",
    "print(y_predict)"
   ]
  },
  {
   "cell_type": "code",
   "execution_count": 72,
   "id": "ab17e67b",
   "metadata": {},
   "outputs": [
    {
     "data": {
      "image/png": "[encoded data removed]",
      "text/plain": [
       "<Figure size 432x288 with 1 Axes>"
      ]
     },
     "metadata": {
      "needs_background": "light"
     },
     "output_type": "display_data"
    }
   ],
   "source": [
    "# Plotting the model\n",
    "plt.plot(X,y,\"b.\")\n",
    "plt.plot(X_new,y_predict, \"r-\", label = \"Predictions\")\n",
    "plt.xlabel (\"$X_1$\", fontsize=15)\n",
    "plt.ylabel (\"$Y$\", rotation =0, fontsize=15)\n",
    "plt.axis([0,2,0,15])\n",
    "plt.title(\"Best fit line\")\n",
    "plt.legend(loc=\"upper left\")\n",
    "plt.savefig(\"bestfitLine\")"
   ]
  },
  {
   "cell_type": "code",
   "execution_count": 74,
   "id": "95f95643",
   "metadata": {},
   "outputs": [
    {
     "name": "stdout",
     "output_type": "stream",
     "text": [
      "[3.86671814]\n",
      "[[3.03691204]]\n"
     ]
    }
   ],
   "source": [
    "# Performing Linear regression with Scikit library\n",
    "from sklearn.linear_model import LinearRegression\n",
    "lin_reg = LinearRegression()\n",
    "lin_reg.fit(X,y)\n",
    "print(lin_reg.intercept_)\n",
    "print(lin_reg.coef_)\n"
   ]
  },
  {
   "cell_type": "code",
   "execution_count": 75,
   "id": "06602e81",
   "metadata": {},
   "outputs": [
    {
     "data": {
      "text/plain": [
       "array([[3.86671814],\n",
       "       [9.94054222]])"
      ]
     },
     "execution_count": 75,
     "metadata": {},
     "output_type": "execute_result"
    }
   ],
   "source": [
    "# Predicting the value via the linear regression model\n",
    "lin_reg.predict(X_new)"
   ]
  },
  {
   "cell_type": "code",
   "execution_count": null,
   "id": "048775d9",
   "metadata": {},
   "outputs": [],
   "source": [
    "theta_best_svd, residual, rank,s  = np.linalg."
   ]
  },
  {
   "cell_type": "code",
   "execution_count": null,
   "id": "5565d0e5",
   "metadata": {},
   "outputs": [],
   "source": []
  },
  {
   "cell_type": "code",
   "execution_count": null,
   "id": "42c30585",
   "metadata": {},
   "outputs": [],
   "source": []
  },
  {
   "cell_type": "code",
   "execution_count": null,
   "id": "379c3c56",
   "metadata": {},
   "outputs": [],
   "source": []
  },
  {
   "cell_type": "code",
   "execution_count": null,
   "id": "8dd82ad1",
   "metadata": {},
   "outputs": [],
   "source": []
  },
  {
   "cell_type": "code",
   "execution_count": null,
   "id": "89ce1171",
   "metadata": {},
   "outputs": [],
   "source": []
  },
  {
   "cell_type": "code",
   "execution_count": null,
   "id": "3c56b086",
   "metadata": {},
   "outputs": [],
   "source": []
  },
  {
   "cell_type": "code",
   "execution_count": null,
   "id": "c37150be",
   "metadata": {},
   "outputs": [],
   "source": []
  },
  {
   "cell_type": "code",
   "execution_count": null,
   "id": "813d84a5",
   "metadata": {},
   "outputs": [],
   "source": []
  }
 ],
 "metadata": {
  "kernelspec": {
   "display_name": "Python 3",
   "language": "python",
   "name": "python3"
  },
  "language_info": {
   "codemirror_mode": {
    "name": "ipython",
    "version": 3
   },
   "file_extension": ".py",
   "mimetype": "text/x-python",
   "name": "python",
   "nbconvert_exporter": "python",
   "pygments_lexer": "ipython3",
   "version": "3.8.8"
  }
 },
 "nbformat": 4,
 "nbformat_minor": 5
}
