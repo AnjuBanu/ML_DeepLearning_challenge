{
 "cells": [
  {
   "cell_type": "code",
   "execution_count": 18,
   "id": "3b9b338b",
   "metadata": {},
   "outputs": [],
   "source": [
    "import numpy as np\n",
    "import pandas as pd\n",
    "import tensorflow as tf\n",
    "from tensorflow.keras import datasets, layers, models, optimizers"
   ]
  },
  {
   "cell_type": "code",
   "execution_count": 19,
   "id": "993366be",
   "metadata": {},
   "outputs": [],
   "source": [
    "# Networking and training\n",
    "EPOCHS=10\n",
    "BATCH_SIZE=128\n",
    "VERBOSE=1\n",
    "OPTIMIZER=tf.keras.optimizers.Adam()\n",
    "VALIDATION_SPLIT=0.95\n",
    "IMG_ROW,IMG_COL=28,28\n",
    "INPUT_SHAPE=(IMG_ROW,IMG_COL,1)\n",
    "NB_CLASSES=10"
   ]
  },
  {
   "cell_type": "code",
   "execution_count": 20,
   "id": "954b9a26",
   "metadata": {},
   "outputs": [],
   "source": [
    "# Defining a LENET network\n",
    "def build(input_shape, classes):\n",
    "    model = models.Sequential()\n",
    "    model.add(layers.Convolution2D(20,(5,5),activation='relu', input_shape=input_shape))\n",
    "    model.add(layers.MaxPooling2D(pool_size=(2,2),strides=(2,2)))\n",
    "    model.add(layers.Convolution2D(50,(5,5),activation='relu'))\n",
    "    model.add(layers.MaxPooling2D(pool_size=(2,2),strides=(2,2)))\n",
    "    model.add(layers.Flatten())\n",
    "    model.add(layers.Dense(500, activation='relu'))\n",
    "    model.add(layers.Dense(classes, activation='softmax'))\n",
    "    return model"
   ]
  },
  {
   "cell_type": "code",
   "execution_count": 21,
   "id": "450df0fb",
   "metadata": {},
   "outputs": [
    {
     "name": "stdout",
     "output_type": "stream",
     "text": [
      "Model: \"sequential_3\"\n",
      "_________________________________________________________________\n",
      "Layer (type)                 Output Shape              Param #   \n",
      "=================================================================\n",
      "conv2d_6 (Conv2D)            (None, 24, 24, 20)        520       \n",
      "_________________________________________________________________\n",
      "max_pooling2d_5 (MaxPooling2 (None, 12, 12, 20)        0         \n",
      "_________________________________________________________________\n",
      "conv2d_7 (Conv2D)            (None, 8, 8, 50)          25050     \n",
      "_________________________________________________________________\n",
      "max_pooling2d_6 (MaxPooling2 (None, 4, 4, 50)          0         \n",
      "_________________________________________________________________\n",
      "flatten_2 (Flatten)          (None, 800)               0         \n",
      "_________________________________________________________________\n",
      "dense_2 (Dense)              (None, 500)               400500    \n",
      "_________________________________________________________________\n",
      "dense_3 (Dense)              (None, 10)                5010      \n",
      "=================================================================\n",
      "Total params: 431,080\n",
      "Trainable params: 431,080\n",
      "Non-trainable params: 0\n",
      "_________________________________________________________________\n"
     ]
    }
   ],
   "source": [
    "(X_train,y_train), (X_test,y_test) = datasets.mnist.load_data()\n",
    "X_train = X_train.reshape((60000,28,28,1))\n",
    "X_test = X_test.reshape((10000,28,28,1))\n",
    "X_train,X_test = X_train / 255.0, X_test/255.0\n",
    "X_train = X_train.astype('float32')\n",
    "X_test = X_test.astype('float32')\n",
    "y_train=tf.keras.utils.to_categorical(y_train,NB_CLASSES)\n",
    "y_test=tf.keras.utils.to_categorical(y_test,NB_CLASSES)\n",
    "model=build(INPUT_SHAPE,NB_CLASSES)\n",
    "model.compile(loss='categorical_crossentropy', optimizer=OPTIMIZER, metrics=['accuracy'])\n",
    "model.summary()"
   ]
  },
  {
   "cell_type": "code",
   "execution_count": 22,
   "id": "c7be0ad5",
   "metadata": {},
   "outputs": [
    {
     "name": "stdout",
     "output_type": "stream",
     "text": [
      "Epoch 1/10\n",
      "24/24 [==============================] - 4s 144ms/step - loss: 1.2471 - accuracy: 0.6403 - val_loss: 0.4650 - val_accuracy: 0.8542\n",
      "Epoch 2/10\n",
      "24/24 [==============================] - 2s 104ms/step - loss: 0.3462 - accuracy: 0.8867 - val_loss: 0.2873 - val_accuracy: 0.9109\n",
      "Epoch 3/10\n",
      "24/24 [==============================] - 2s 104ms/step - loss: 0.2087 - accuracy: 0.9477 - val_loss: 0.2213 - val_accuracy: 0.9300\n",
      "Epoch 4/10\n",
      "24/24 [==============================] - 2s 105ms/step - loss: 0.1499 - accuracy: 0.9557 - val_loss: 0.1722 - val_accuracy: 0.9474\n",
      "Epoch 5/10\n",
      "24/24 [==============================] - 2s 107ms/step - loss: 0.1091 - accuracy: 0.9723 - val_loss: 0.1657 - val_accuracy: 0.9475\n",
      "Epoch 6/10\n",
      "24/24 [==============================] - 2s 108ms/step - loss: 0.0889 - accuracy: 0.9747 - val_loss: 0.1406 - val_accuracy: 0.9552\n",
      "Epoch 7/10\n",
      "24/24 [==============================] - 3s 114ms/step - loss: 0.0734 - accuracy: 0.9813 - val_loss: 0.1332 - val_accuracy: 0.9580\n",
      "Epoch 8/10\n",
      "24/24 [==============================] - 3s 112ms/step - loss: 0.0545 - accuracy: 0.9847 - val_loss: 0.1241 - val_accuracy: 0.9615\n",
      "Epoch 9/10\n",
      "24/24 [==============================] - 3s 114ms/step - loss: 0.0464 - accuracy: 0.9873 - val_loss: 0.1323 - val_accuracy: 0.9592\n",
      "Epoch 10/10\n",
      "24/24 [==============================] - 3s 121ms/step - loss: 0.0336 - accuracy: 0.9920 - val_loss: 0.1121 - val_accuracy: 0.9660\n",
      "313/313 [==============================] - 1s 2ms/step - loss: 0.0924 - accuracy: 0.9711\n",
      "\n",
      "Test Score: 0.09240042418241501\n",
      "Test Accuracy: 0.9710999727249146\n"
     ]
    }
   ],
   "source": [
    "callbacks = [\n",
    "    tf.keras.callbacks.TensorBoard(log_dir='./logs')\n",
    "]\n",
    "\n",
    "history = model.fit(X_train,y_train, \n",
    "                    batch_size=BATCH_SIZE,\n",
    "                    epochs=EPOCHS,\n",
    "                    verbose=VERBOSE,\n",
    "                    validation_split=VALIDATION_SPLIT,\n",
    "                    callbacks=callbacks\n",
    "                   )\n",
    "score=model.evaluate(X_test,y_test, verbose=VERBOSE)\n",
    "print('\\nTest Score:', score[0])\n",
    "print('Test Accuracy:', score[1])"
   ]
  }
 ],
 "metadata": {
  "kernelspec": {
   "display_name": "Python 3",
   "language": "python",
   "name": "python3"
  },
  "language_info": {
   "codemirror_mode": {
    "name": "ipython",
    "version": 3
   },
   "file_extension": ".py",
   "mimetype": "text/x-python",
   "name": "python",
   "nbconvert_exporter": "python",
   "pygments_lexer": "ipython3",
   "version": "3.8.8"
  }
 },
 "nbformat": 4,
 "nbformat_minor": 5
}
